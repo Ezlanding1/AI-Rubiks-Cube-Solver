{
 "cells": [
  {
   "cell_type": "markdown",
   "id": "2e151f9d",
   "metadata": {},
   "source": [
    "## AI Rubiks Cube Solver - ML Final Project 2025"
   ]
  },
  {
   "cell_type": "markdown",
   "id": "bf74a0c6",
   "metadata": {},
   "source": [
    "In this project, I attempted to create a Rubik's Cube solver using artificial intelligence. The project utilizes a neural network created in Pytorch, using deep learning and heuristic search."
   ]
  },
  {
   "cell_type": "markdown",
   "id": "275513f0",
   "metadata": {},
   "source": [
    "![gif_demo](./assets/output.gif)\n",
    "<hr>"
   ]
  },
  {
   "cell_type": "markdown",
   "id": "4d58edd1",
   "metadata": {},
   "source": [
    "## Files"
   ]
  },
  {
   "cell_type": "code",
   "execution_count": 1,
   "id": "e4c7a410",
   "metadata": {},
   "outputs": [],
   "source": [
    "from cube import Cube\n",
    "from IPython.display import clear_output\n",
    "from time import sleep\n",
    "import matplotlib.pyplot as plt"
   ]
  },
  {
   "cell_type": "markdown",
   "id": "552b8ae3",
   "metadata": {},
   "source": [
    "#### Train.py\n",
    "\n",
    "Trains the model, and upon completion outputs the completed model to `cube_solver_model.pth`. \n",
    "\n",
    "> Feel free to generate your own model rather than using the one that comes provided by running `train.py`, although training may take a *long* time to complete (the `num_epochs` and `num_samples` parameters can be reduced to speed up training time)"
   ]
  },
  {
   "cell_type": "code",
   "execution_count": 2,
   "id": "552f6705",
   "metadata": {},
   "outputs": [
    {
     "data": {
      "image/png": "[encoded data removed]",
      "text/plain": [
       "<Figure size 500x300 with 1 Axes>"
      ]
     },
     "metadata": {},
     "output_type": "display_data"
    }
   ],
   "source": [
    "from loss import LOSS\n",
    "\n",
    "x_values = list(range(len(LOSS)))\n",
    "plt.figure(figsize=(5, 3))\n",
    "plt.title('Loss Over Epochs')\n",
    "plt.scatter(x_values, LOSS, s=10, color='blue', alpha=0.6)\n",
    "plt.grid(True)\n",
    "plt.show()\n"
   ]
  },
  {
   "cell_type": "markdown",
   "id": "8d776595",
   "metadata": {},
   "source": [
    "#### Neural_Net.py\n",
    "\n",
    "Provides `CubeSolverNet`, the deep learning neural network class, and functions to encode and decode the data.\n",
    "\n",
    "After some testing, I found that the most effective approach was to use 2 hidden layers, and use BatchNorm1d (to stabilize training) and Dropout (to improve generalization)."
   ]
  },
  {
   "cell_type": "code",
   "execution_count": 3,
   "id": "9389a555",
   "metadata": {},
   "outputs": [
    {
     "name": "stdout",
     "output_type": "stream",
     "text": [
      "CubeSolverNet(\n",
      "  (fc1): Linear(in_features=324, out_features=512, bias=True)\n",
      "  (bn1): BatchNorm1d(512, eps=1e-05, momentum=0.1, affine=True, track_running_stats=True)\n",
      "  (fc2): Linear(in_features=512, out_features=256, bias=True)\n",
      "  (bn2): BatchNorm1d(256, eps=1e-05, momentum=0.1, affine=True, track_running_stats=True)\n",
      "  (dropout2): Dropout(p=0.3, inplace=False)\n",
      "  (fc3): Linear(in_features=256, out_features=128, bias=True)\n",
      "  (bn3): BatchNorm1d(128, eps=1e-05, momentum=0.1, affine=True, track_running_stats=True)\n",
      "  (dropout3): Dropout(p=0.3, inplace=False)\n",
      "  (fc4): Linear(in_features=128, out_features=12, bias=True)\n",
      ")\n"
     ]
    }
   ],
   "source": [
    "from neural_net import CubeSolverNet\n",
    "print(CubeSolverNet())"
   ]
  },
  {
   "cell_type": "markdown",
   "id": "9b45ecb4",
   "metadata": {},
   "source": [
    "#### Cube.py \n",
    "\n",
    "Provides a `cube` class, which contains methods for storing a Rubik's Cube's state, scrambling it, and moving it along a sequence of moves. \n",
    "\n",
    "#### Cube_Renderer.py\n",
    "\n",
    "Responsible for rendering a `cube` object to the terminal."
   ]
  },
  {
   "cell_type": "code",
   "execution_count": 4,
   "id": "0b49d66c",
   "metadata": {},
   "outputs": [
    {
     "name": "stdout",
     "output_type": "stream",
     "text": [
      "Scrambled Rubik's Cube\n",
      "       \u001b[32m■ \u001b[0m\u001b[31m■ \u001b[0m\u001b[32m■ \u001b[0m\n",
      "       \u001b[34m■ \u001b[0m\u001b[33m■ \u001b[0m\u001b[34m■ \u001b[0m\n",
      "       \u001b[33m■ \u001b[0m\u001b[38;5;214m■ \u001b[0m\u001b[34m■ \u001b[0m\n",
      "\u001b[37m■ \u001b[0m\u001b[38;5;214m■ \u001b[0m\u001b[34m■ \u001b[0m \u001b[31m■ \u001b[0m\u001b[32m■ \u001b[0m\u001b[33m■ \u001b[0m \u001b[38;5;214m■ \u001b[0m\u001b[33m■ \u001b[0m\u001b[33m■ \u001b[0m \u001b[31m■ \u001b[0m\u001b[34m■ \u001b[0m\u001b[31m■ \u001b[0m\n",
      "\u001b[31m■ \u001b[0m\u001b[38;5;214m■ \u001b[0m\u001b[32m■ \u001b[0m \u001b[33m■ \u001b[0m\u001b[34m■ \u001b[0m\u001b[37m■ \u001b[0m \u001b[38;5;214m■ \u001b[0m\u001b[31m■ \u001b[0m\u001b[31m■ \u001b[0m \u001b[37m■ \u001b[0m\u001b[32m■ \u001b[0m\u001b[32m■ \u001b[0m\n",
      "\u001b[32m■ \u001b[0m\u001b[33m■ \u001b[0m\u001b[33m■ \u001b[0m \u001b[38;5;214m■ \u001b[0m\u001b[31m■ \u001b[0m\u001b[34m■ \u001b[0m \u001b[37m■ \u001b[0m\u001b[37m■ \u001b[0m\u001b[34m■ \u001b[0m \u001b[31m■ \u001b[0m\u001b[37m■ \u001b[0m\u001b[37m■ \u001b[0m\n",
      "       \u001b[32m■ \u001b[0m\u001b[33m■ \u001b[0m\u001b[38;5;214m■ \u001b[0m\n",
      "       \u001b[38;5;214m■ \u001b[0m\u001b[37m■ \u001b[0m\u001b[32m■ \u001b[0m\n",
      "       \u001b[38;5;214m■ \u001b[0m\u001b[34m■ \u001b[0m\u001b[37m■ \u001b[0m\n",
      "\n"
     ]
    }
   ],
   "source": [
    "print(\"Rubik's Cube\")\n",
    "cube = Cube()\n",
    "print(cube)\n",
    "\n",
    "sleep(1)\n",
    "clear_output(wait=True)\n",
    "print(\"Scrambled Rubik's Cube\")\n",
    "cube.scramble()\n",
    "print(cube)\n"
   ]
  },
  {
   "cell_type": "markdown",
   "id": "fb951c71",
   "metadata": {},
   "source": [
    "#### Solve_Cube.py\n",
    "\n",
    "Generate a randomly scrambled Rubik's Cube and solve it using a trained model, using (by default) beam search. \n",
    "\n",
    "Provides functions to solve a cube using the trained model."
   ]
  },
  {
   "cell_type": "markdown",
   "id": "462182a1",
   "metadata": {},
   "source": [
    "#### Solve_Cube_Tui.py\n",
    "\n",
    "Uses functions from `solve_cube.py` to solve a generated cube and display the solving process in a nice format to terminal."
   ]
  },
  {
   "cell_type": "markdown",
   "id": "a885a371",
   "metadata": {},
   "source": [
    "<hr>"
   ]
  },
  {
   "cell_type": "markdown",
   "id": "282f85de",
   "metadata": {},
   "source": [
    "## Results \n",
    "\n",
    "The AI model was effective in solving Rubiks Cubes up to around 10 scrambles. With more scrambles, the model is unlikely to converge on a solution. The biggest difficulty in this project is the plateau of the loss function. This could be remedied by integrating different AI types (such as a DQN), a better search algorithm (like A*), by improving the optimization/loss function, adding an lr_scheduler to prevent plateau, or by using faster hardware to compute more data.\n",
    "\n",
    "Try out the AI model below. Experiment with different scramble moves, different search methods etc. (these parameters can be configured in solve_cube_tui and solve_cube)\n",
    "\n",
    "> Two other trained models, `cube_solver_model_v2.pth` and `cube_solver_model_v3.pth` are also provided, which were trained to different parameters. You can try them out by renaming them `cube_solver_model.pth`. "
   ]
  },
  {
   "cell_type": "code",
   "execution_count": 6,
   "id": "538653ea",
   "metadata": {},
   "outputs": [
    {
     "name": "stdout",
     "output_type": "stream",
     "text": [
      "Solved!\n",
      "       \u001b[33m■ \u001b[0m\u001b[33m■ \u001b[0m\u001b[33m■ \u001b[0m\n",
      "       \u001b[33m■ \u001b[0m\u001b[33m■ \u001b[0m\u001b[33m■ \u001b[0m\n",
      "       \u001b[33m■ \u001b[0m\u001b[33m■ \u001b[0m\u001b[33m■ \u001b[0m\n",
      "\u001b[38;5;214m■ \u001b[0m\u001b[38;5;214m■ \u001b[0m\u001b[38;5;214m■ \u001b[0m \u001b[34m■ \u001b[0m\u001b[34m■ \u001b[0m\u001b[34m■ \u001b[0m \u001b[31m■ \u001b[0m\u001b[31m■ \u001b[0m\u001b[31m■ \u001b[0m \u001b[32m■ \u001b[0m\u001b[32m■ \u001b[0m\u001b[32m■ \u001b[0m\n",
      "\u001b[38;5;214m■ \u001b[0m\u001b[38;5;214m■ \u001b[0m\u001b[38;5;214m■ \u001b[0m \u001b[34m■ \u001b[0m\u001b[34m■ \u001b[0m\u001b[34m■ \u001b[0m \u001b[31m■ \u001b[0m\u001b[31m■ \u001b[0m\u001b[31m■ \u001b[0m \u001b[32m■ \u001b[0m\u001b[32m■ \u001b[0m\u001b[32m■ \u001b[0m\n",
      "\u001b[38;5;214m■ \u001b[0m\u001b[38;5;214m■ \u001b[0m\u001b[38;5;214m■ \u001b[0m \u001b[34m■ \u001b[0m\u001b[34m■ \u001b[0m\u001b[34m■ \u001b[0m \u001b[31m■ \u001b[0m\u001b[31m■ \u001b[0m\u001b[31m■ \u001b[0m \u001b[32m■ \u001b[0m\u001b[32m■ \u001b[0m\u001b[32m■ \u001b[0m\n",
      "       \u001b[37m■ \u001b[0m\u001b[37m■ \u001b[0m\u001b[37m■ \u001b[0m\n",
      "       \u001b[37m■ \u001b[0m\u001b[37m■ \u001b[0m\u001b[37m■ \u001b[0m\n",
      "       \u001b[37m■ \u001b[0m\u001b[37m■ \u001b[0m\u001b[37m■ \u001b[0m\n",
      "\n"
     ]
    }
   ],
   "source": [
    "import solve_cube_tui\n",
    "\n",
    "solve_cube_tui.main(notebook=True)"
   ]
  }
 ],
 "metadata": {
  "kernelspec": {
   "display_name": "Python 3",
   "language": "python",
   "name": "python3"
  },
  "language_info": {
   "codemirror_mode": {
    "name": "ipython",
    "version": 3
   },
   "file_extension": ".py",
   "mimetype": "text/x-python",
   "name": "python",
   "nbconvert_exporter": "python",
   "pygments_lexer": "ipython3",
   "version": "3.10.11"
  }
 },
 "nbformat": 4,
 "nbformat_minor": 5
}
